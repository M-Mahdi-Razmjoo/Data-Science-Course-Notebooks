{
 "cells": [
  {
   "cell_type": "markdown",
   "metadata": {},
   "source": [
    "# Web-scraping\n",
    "## Mohammad Mahdi Razmjoo - 400101272"
   ]
  },
  {
   "cell_type": "code",
   "execution_count": 1,
   "metadata": {},
   "outputs": [],
   "source": [
    "import json\n",
    "from bs4 import BeautifulSoup\n",
    "import requests\n",
    "import pandas as pd\n",
    "\n",
    "def add_to_df(cars, df):\n",
    "    for i, car in enumerate(cars):\n",
    "        record = []\n",
    "        if int(car['detail']['year']) < 1385: continue\n",
    "        detail = car['detail']\n",
    "        for key in detail_keys:\n",
    "            record.append(detail[key])\n",
    "        specs = car['specs']\n",
    "        for key in specs_keys:\n",
    "            record.append(specs[key])\n",
    "        price = car['price']\n",
    "        for key in price_keys:\n",
    "            record.append(price[key])\n",
    "        df.loc[len(df)] = record\n",
    "    return df\n",
    "\n",
    "detail_keys = ['url', 'title', 'subtitle', 'trim', 'year', 'mileage', 'location', 'transmission', 'color', 'body_color', 'inside_color', 'body_status', 'description', 'cylinder_fa']\n",
    "specs_keys = ['volume', 'engine', 'acceleration', 'fuel']\n",
    "price_keys = ['price']\n",
    "df = pd.DataFrame(columns= detail_keys + specs_keys + price_keys)\n",
    "\n",
    "for i in range(1,4):\n",
    "    response = requests.get(f'https://bama.ir/cad/api/search?vehicle=samand%2Clx&pageIndex={i}', headers={\"User-Agent\": \"Mozilla/5.0\" }).json()\n",
    "    cars = response['data']['ads']\n",
    "    df = add_to_df(cars, df)\n",
    "df.to_csv('Samand.csv')"
   ]
  }
 ],
 "metadata": {
  "kernelspec": {
   "display_name": "Python 3",
   "language": "python",
   "name": "python3"
  },
  "language_info": {
   "codemirror_mode": {
    "name": "ipython",
    "version": 3
   },
   "file_extension": ".py",
   "mimetype": "text/x-python",
   "name": "python",
   "nbconvert_exporter": "python",
   "pygments_lexer": "ipython3",
   "version": "3.12.6"
  }
 },
 "nbformat": 4,
 "nbformat_minor": 2
}
