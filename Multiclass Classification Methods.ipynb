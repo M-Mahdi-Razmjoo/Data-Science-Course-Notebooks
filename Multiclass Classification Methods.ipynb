{
  "nbformat": 4,
  "nbformat_minor": 0,
  "metadata": {
    "colab": {
      "provenance": [],
      "gpuType": "T4"
    },
    "kernelspec": {
      "name": "python3",
      "display_name": "Python 3"
    },
    "language_info": {
      "name": "python"
    },
    "accelerator": "GPU"
  },
  "cells": [
    {
      "cell_type": "markdown",
      "source": [
        "# Mohammad Mahdi Razmjoo\n",
        "## 40010127"
      ],
      "metadata": {
        "id": "2wV5NvWAcpVl"
      }
    },
    {
      "cell_type": "code",
      "execution_count": 4,
      "metadata": {
        "id": "Ed-10b_GKCBJ",
        "colab": {
          "base_uri": "https://localhost:8080/",
          "height": 359
        },
        "outputId": "868cd8e7-6655-4a57-cec6-49eff482d43c"
      },
      "outputs": [
        {
          "output_type": "execute_result",
          "data": {
            "text/plain": [
              "   Unnamed: 0      ID               Name  Age  \\\n",
              "0           0  158023           L. Messi   31   \n",
              "1           1   20801  Cristiano Ronaldo   33   \n",
              "2           2  190871          Neymar Jr   26   \n",
              "3           3  193080             De Gea   27   \n",
              "4           4  192985       K. De Bruyne   27   \n",
              "\n",
              "                                            Photo Nationality  \\\n",
              "0  https://cdn.sofifa.org/players/4/19/158023.png   Argentina   \n",
              "1   https://cdn.sofifa.org/players/4/19/20801.png    Portugal   \n",
              "2  https://cdn.sofifa.org/players/4/19/190871.png      Brazil   \n",
              "3  https://cdn.sofifa.org/players/4/19/193080.png       Spain   \n",
              "4  https://cdn.sofifa.org/players/4/19/192985.png     Belgium   \n",
              "\n",
              "                                  Flag  Overall  Potential  \\\n",
              "0  https://cdn.sofifa.org/flags/52.png       94         94   \n",
              "1  https://cdn.sofifa.org/flags/38.png       94         94   \n",
              "2  https://cdn.sofifa.org/flags/54.png       92         93   \n",
              "3  https://cdn.sofifa.org/flags/45.png       91         93   \n",
              "4   https://cdn.sofifa.org/flags/7.png       91         92   \n",
              "\n",
              "                  Club  ... Composure Marking StandingTackle  SlidingTackle  \\\n",
              "0         FC Barcelona  ...      96.0    33.0           28.0           26.0   \n",
              "1             Juventus  ...      95.0    28.0           31.0           23.0   \n",
              "2  Paris Saint-Germain  ...      94.0    27.0           24.0           33.0   \n",
              "3    Manchester United  ...      68.0    15.0           21.0           13.0   \n",
              "4      Manchester City  ...      88.0    68.0           58.0           51.0   \n",
              "\n",
              "  GKDiving  GKHandling  GKKicking  GKPositioning GKReflexes Release Clause  \n",
              "0      6.0        11.0       15.0           14.0        8.0        €226.5M  \n",
              "1      7.0        11.0       15.0           14.0       11.0        €127.1M  \n",
              "2      9.0         9.0       15.0           15.0       11.0        €228.1M  \n",
              "3     90.0        85.0       87.0           88.0       94.0        €138.6M  \n",
              "4     15.0        13.0        5.0           10.0       13.0        €196.4M  \n",
              "\n",
              "[5 rows x 89 columns]"
            ],
            "text/html": [
              "\n",
              "  <div id=\"df-0c299d23-4405-4a47-a382-c7bd8cc3d04f\" class=\"colab-df-container\">\n",
              "    <div>\n",
              "<style scoped>\n",
              "    .dataframe tbody tr th:only-of-type {\n",
              "        vertical-align: middle;\n",
              "    }\n",
              "\n",
              "    .dataframe tbody tr th {\n",
              "        vertical-align: top;\n",
              "    }\n",
              "\n",
              "    .dataframe thead th {\n",
              "        text-align: right;\n",
              "    }\n",
              "</style>\n",
              "<table border=\"1\" class=\"dataframe\">\n",
              "  <thead>\n",
              "    <tr style=\"text-align: right;\">\n",
              "      <th></th>\n",
              "      <th>Unnamed: 0</th>\n",
              "      <th>ID</th>\n",
              "      <th>Name</th>\n",
              "      <th>Age</th>\n",
              "      <th>Photo</th>\n",
              "      <th>Nationality</th>\n",
              "      <th>Flag</th>\n",
              "      <th>Overall</th>\n",
              "      <th>Potential</th>\n",
              "      <th>Club</th>\n",
              "      <th>...</th>\n",
              "      <th>Composure</th>\n",
              "      <th>Marking</th>\n",
              "      <th>StandingTackle</th>\n",
              "      <th>SlidingTackle</th>\n",
              "      <th>GKDiving</th>\n",
              "      <th>GKHandling</th>\n",
              "      <th>GKKicking</th>\n",
              "      <th>GKPositioning</th>\n",
              "      <th>GKReflexes</th>\n",
              "      <th>Release Clause</th>\n",
              "    </tr>\n",
              "  </thead>\n",
              "  <tbody>\n",
              "    <tr>\n",
              "      <th>0</th>\n",
              "      <td>0</td>\n",
              "      <td>158023</td>\n",
              "      <td>L. Messi</td>\n",
              "      <td>31</td>\n",
              "      <td>https://cdn.sofifa.org/players/4/19/158023.png</td>\n",
              "      <td>Argentina</td>\n",
              "      <td>https://cdn.sofifa.org/flags/52.png</td>\n",
              "      <td>94</td>\n",
              "      <td>94</td>\n",
              "      <td>FC Barcelona</td>\n",
              "      <td>...</td>\n",
              "      <td>96.0</td>\n",
              "      <td>33.0</td>\n",
              "      <td>28.0</td>\n",
              "      <td>26.0</td>\n",
              "      <td>6.0</td>\n",
              "      <td>11.0</td>\n",
              "      <td>15.0</td>\n",
              "      <td>14.0</td>\n",
              "      <td>8.0</td>\n",
              "      <td>€226.5M</td>\n",
              "    </tr>\n",
              "    <tr>\n",
              "      <th>1</th>\n",
              "      <td>1</td>\n",
              "      <td>20801</td>\n",
              "      <td>Cristiano Ronaldo</td>\n",
              "      <td>33</td>\n",
              "      <td>https://cdn.sofifa.org/players/4/19/20801.png</td>\n",
              "      <td>Portugal</td>\n",
              "      <td>https://cdn.sofifa.org/flags/38.png</td>\n",
              "      <td>94</td>\n",
              "      <td>94</td>\n",
              "      <td>Juventus</td>\n",
              "      <td>...</td>\n",
              "      <td>95.0</td>\n",
              "      <td>28.0</td>\n",
              "      <td>31.0</td>\n",
              "      <td>23.0</td>\n",
              "      <td>7.0</td>\n",
              "      <td>11.0</td>\n",
              "      <td>15.0</td>\n",
              "      <td>14.0</td>\n",
              "      <td>11.0</td>\n",
              "      <td>€127.1M</td>\n",
              "    </tr>\n",
              "    <tr>\n",
              "      <th>2</th>\n",
              "      <td>2</td>\n",
              "      <td>190871</td>\n",
              "      <td>Neymar Jr</td>\n",
              "      <td>26</td>\n",
              "      <td>https://cdn.sofifa.org/players/4/19/190871.png</td>\n",
              "      <td>Brazil</td>\n",
              "      <td>https://cdn.sofifa.org/flags/54.png</td>\n",
              "      <td>92</td>\n",
              "      <td>93</td>\n",
              "      <td>Paris Saint-Germain</td>\n",
              "      <td>...</td>\n",
              "      <td>94.0</td>\n",
              "      <td>27.0</td>\n",
              "      <td>24.0</td>\n",
              "      <td>33.0</td>\n",
              "      <td>9.0</td>\n",
              "      <td>9.0</td>\n",
              "      <td>15.0</td>\n",
              "      <td>15.0</td>\n",
              "      <td>11.0</td>\n",
              "      <td>€228.1M</td>\n",
              "    </tr>\n",
              "    <tr>\n",
              "      <th>3</th>\n",
              "      <td>3</td>\n",
              "      <td>193080</td>\n",
              "      <td>De Gea</td>\n",
              "      <td>27</td>\n",
              "      <td>https://cdn.sofifa.org/players/4/19/193080.png</td>\n",
              "      <td>Spain</td>\n",
              "      <td>https://cdn.sofifa.org/flags/45.png</td>\n",
              "      <td>91</td>\n",
              "      <td>93</td>\n",
              "      <td>Manchester United</td>\n",
              "      <td>...</td>\n",
              "      <td>68.0</td>\n",
              "      <td>15.0</td>\n",
              "      <td>21.0</td>\n",
              "      <td>13.0</td>\n",
              "      <td>90.0</td>\n",
              "      <td>85.0</td>\n",
              "      <td>87.0</td>\n",
              "      <td>88.0</td>\n",
              "      <td>94.0</td>\n",
              "      <td>€138.6M</td>\n",
              "    </tr>\n",
              "    <tr>\n",
              "      <th>4</th>\n",
              "      <td>4</td>\n",
              "      <td>192985</td>\n",
              "      <td>K. De Bruyne</td>\n",
              "      <td>27</td>\n",
              "      <td>https://cdn.sofifa.org/players/4/19/192985.png</td>\n",
              "      <td>Belgium</td>\n",
              "      <td>https://cdn.sofifa.org/flags/7.png</td>\n",
              "      <td>91</td>\n",
              "      <td>92</td>\n",
              "      <td>Manchester City</td>\n",
              "      <td>...</td>\n",
              "      <td>88.0</td>\n",
              "      <td>68.0</td>\n",
              "      <td>58.0</td>\n",
              "      <td>51.0</td>\n",
              "      <td>15.0</td>\n",
              "      <td>13.0</td>\n",
              "      <td>5.0</td>\n",
              "      <td>10.0</td>\n",
              "      <td>13.0</td>\n",
              "      <td>€196.4M</td>\n",
              "    </tr>\n",
              "  </tbody>\n",
              "</table>\n",
              "<p>5 rows × 89 columns</p>\n",
              "</div>\n",
              "    <div class=\"colab-df-buttons\">\n",
              "\n",
              "  <div class=\"colab-df-container\">\n",
              "    <button class=\"colab-df-convert\" onclick=\"convertToInteractive('df-0c299d23-4405-4a47-a382-c7bd8cc3d04f')\"\n",
              "            title=\"Convert this dataframe to an interactive table.\"\n",
              "            style=\"display:none;\">\n",
              "\n",
              "  <svg xmlns=\"http://www.w3.org/2000/svg\" height=\"24px\" viewBox=\"0 -960 960 960\">\n",
              "    <path d=\"M120-120v-720h720v720H120Zm60-500h600v-160H180v160Zm220 220h160v-160H400v160Zm0 220h160v-160H400v160ZM180-400h160v-160H180v160Zm440 0h160v-160H620v160ZM180-180h160v-160H180v160Zm440 0h160v-160H620v160Z\"/>\n",
              "  </svg>\n",
              "    </button>\n",
              "\n",
              "  <style>\n",
              "    .colab-df-container {\n",
              "      display:flex;\n",
              "      gap: 12px;\n",
              "    }\n",
              "\n",
              "    .colab-df-convert {\n",
              "      background-color: #E8F0FE;\n",
              "      border: none;\n",
              "      border-radius: 50%;\n",
              "      cursor: pointer;\n",
              "      display: none;\n",
              "      fill: #1967D2;\n",
              "      height: 32px;\n",
              "      padding: 0 0 0 0;\n",
              "      width: 32px;\n",
              "    }\n",
              "\n",
              "    .colab-df-convert:hover {\n",
              "      background-color: #E2EBFA;\n",
              "      box-shadow: 0px 1px 2px rgba(60, 64, 67, 0.3), 0px 1px 3px 1px rgba(60, 64, 67, 0.15);\n",
              "      fill: #174EA6;\n",
              "    }\n",
              "\n",
              "    .colab-df-buttons div {\n",
              "      margin-bottom: 4px;\n",
              "    }\n",
              "\n",
              "    [theme=dark] .colab-df-convert {\n",
              "      background-color: #3B4455;\n",
              "      fill: #D2E3FC;\n",
              "    }\n",
              "\n",
              "    [theme=dark] .colab-df-convert:hover {\n",
              "      background-color: #434B5C;\n",
              "      box-shadow: 0px 1px 3px 1px rgba(0, 0, 0, 0.15);\n",
              "      filter: drop-shadow(0px 1px 2px rgba(0, 0, 0, 0.3));\n",
              "      fill: #FFFFFF;\n",
              "    }\n",
              "  </style>\n",
              "\n",
              "    <script>\n",
              "      const buttonEl =\n",
              "        document.querySelector('#df-0c299d23-4405-4a47-a382-c7bd8cc3d04f button.colab-df-convert');\n",
              "      buttonEl.style.display =\n",
              "        google.colab.kernel.accessAllowed ? 'block' : 'none';\n",
              "\n",
              "      async function convertToInteractive(key) {\n",
              "        const element = document.querySelector('#df-0c299d23-4405-4a47-a382-c7bd8cc3d04f');\n",
              "        const dataTable =\n",
              "          await google.colab.kernel.invokeFunction('convertToInteractive',\n",
              "                                                    [key], {});\n",
              "        if (!dataTable) return;\n",
              "\n",
              "        const docLinkHtml = 'Like what you see? Visit the ' +\n",
              "          '<a target=\"_blank\" href=https://colab.research.google.com/notebooks/data_table.ipynb>data table notebook</a>'\n",
              "          + ' to learn more about interactive tables.';\n",
              "        element.innerHTML = '';\n",
              "        dataTable['output_type'] = 'display_data';\n",
              "        await google.colab.output.renderOutput(dataTable, element);\n",
              "        const docLink = document.createElement('div');\n",
              "        docLink.innerHTML = docLinkHtml;\n",
              "        element.appendChild(docLink);\n",
              "      }\n",
              "    </script>\n",
              "  </div>\n",
              "\n",
              "\n",
              "    <div id=\"df-2d7d5a78-8bb5-4b07-b0ec-f88561dd0389\">\n",
              "      <button class=\"colab-df-quickchart\" onclick=\"quickchart('df-2d7d5a78-8bb5-4b07-b0ec-f88561dd0389')\"\n",
              "                title=\"Suggest charts\"\n",
              "                style=\"display:none;\">\n",
              "\n",
              "<svg xmlns=\"http://www.w3.org/2000/svg\" height=\"24px\"viewBox=\"0 0 24 24\"\n",
              "     width=\"24px\">\n",
              "    <g>\n",
              "        <path d=\"M19 3H5c-1.1 0-2 .9-2 2v14c0 1.1.9 2 2 2h14c1.1 0 2-.9 2-2V5c0-1.1-.9-2-2-2zM9 17H7v-7h2v7zm4 0h-2V7h2v10zm4 0h-2v-4h2v4z\"/>\n",
              "    </g>\n",
              "</svg>\n",
              "      </button>\n",
              "\n",
              "<style>\n",
              "  .colab-df-quickchart {\n",
              "      --bg-color: #E8F0FE;\n",
              "      --fill-color: #1967D2;\n",
              "      --hover-bg-color: #E2EBFA;\n",
              "      --hover-fill-color: #174EA6;\n",
              "      --disabled-fill-color: #AAA;\n",
              "      --disabled-bg-color: #DDD;\n",
              "  }\n",
              "\n",
              "  [theme=dark] .colab-df-quickchart {\n",
              "      --bg-color: #3B4455;\n",
              "      --fill-color: #D2E3FC;\n",
              "      --hover-bg-color: #434B5C;\n",
              "      --hover-fill-color: #FFFFFF;\n",
              "      --disabled-bg-color: #3B4455;\n",
              "      --disabled-fill-color: #666;\n",
              "  }\n",
              "\n",
              "  .colab-df-quickchart {\n",
              "    background-color: var(--bg-color);\n",
              "    border: none;\n",
              "    border-radius: 50%;\n",
              "    cursor: pointer;\n",
              "    display: none;\n",
              "    fill: var(--fill-color);\n",
              "    height: 32px;\n",
              "    padding: 0;\n",
              "    width: 32px;\n",
              "  }\n",
              "\n",
              "  .colab-df-quickchart:hover {\n",
              "    background-color: var(--hover-bg-color);\n",
              "    box-shadow: 0 1px 2px rgba(60, 64, 67, 0.3), 0 1px 3px 1px rgba(60, 64, 67, 0.15);\n",
              "    fill: var(--button-hover-fill-color);\n",
              "  }\n",
              "\n",
              "  .colab-df-quickchart-complete:disabled,\n",
              "  .colab-df-quickchart-complete:disabled:hover {\n",
              "    background-color: var(--disabled-bg-color);\n",
              "    fill: var(--disabled-fill-color);\n",
              "    box-shadow: none;\n",
              "  }\n",
              "\n",
              "  .colab-df-spinner {\n",
              "    border: 2px solid var(--fill-color);\n",
              "    border-color: transparent;\n",
              "    border-bottom-color: var(--fill-color);\n",
              "    animation:\n",
              "      spin 1s steps(1) infinite;\n",
              "  }\n",
              "\n",
              "  @keyframes spin {\n",
              "    0% {\n",
              "      border-color: transparent;\n",
              "      border-bottom-color: var(--fill-color);\n",
              "      border-left-color: var(--fill-color);\n",
              "    }\n",
              "    20% {\n",
              "      border-color: transparent;\n",
              "      border-left-color: var(--fill-color);\n",
              "      border-top-color: var(--fill-color);\n",
              "    }\n",
              "    30% {\n",
              "      border-color: transparent;\n",
              "      border-left-color: var(--fill-color);\n",
              "      border-top-color: var(--fill-color);\n",
              "      border-right-color: var(--fill-color);\n",
              "    }\n",
              "    40% {\n",
              "      border-color: transparent;\n",
              "      border-right-color: var(--fill-color);\n",
              "      border-top-color: var(--fill-color);\n",
              "    }\n",
              "    60% {\n",
              "      border-color: transparent;\n",
              "      border-right-color: var(--fill-color);\n",
              "    }\n",
              "    80% {\n",
              "      border-color: transparent;\n",
              "      border-right-color: var(--fill-color);\n",
              "      border-bottom-color: var(--fill-color);\n",
              "    }\n",
              "    90% {\n",
              "      border-color: transparent;\n",
              "      border-bottom-color: var(--fill-color);\n",
              "    }\n",
              "  }\n",
              "</style>\n",
              "\n",
              "      <script>\n",
              "        async function quickchart(key) {\n",
              "          const quickchartButtonEl =\n",
              "            document.querySelector('#' + key + ' button');\n",
              "          quickchartButtonEl.disabled = true;  // To prevent multiple clicks.\n",
              "          quickchartButtonEl.classList.add('colab-df-spinner');\n",
              "          try {\n",
              "            const charts = await google.colab.kernel.invokeFunction(\n",
              "                'suggestCharts', [key], {});\n",
              "          } catch (error) {\n",
              "            console.error('Error during call to suggestCharts:', error);\n",
              "          }\n",
              "          quickchartButtonEl.classList.remove('colab-df-spinner');\n",
              "          quickchartButtonEl.classList.add('colab-df-quickchart-complete');\n",
              "        }\n",
              "        (() => {\n",
              "          let quickchartButtonEl =\n",
              "            document.querySelector('#df-2d7d5a78-8bb5-4b07-b0ec-f88561dd0389 button');\n",
              "          quickchartButtonEl.style.display =\n",
              "            google.colab.kernel.accessAllowed ? 'block' : 'none';\n",
              "        })();\n",
              "      </script>\n",
              "    </div>\n",
              "    </div>\n",
              "  </div>\n"
            ],
            "application/vnd.google.colaboratory.intrinsic+json": {
              "type": "dataframe",
              "variable_name": "df"
            }
          },
          "metadata": {},
          "execution_count": 4
        }
      ],
      "source": [
        "import pandas as pd\n",
        "\n",
        "df = pd.read_csv('fifa19.csv')\n",
        "df.head()"
      ]
    },
    {
      "cell_type": "markdown",
      "source": [
        "Develop a target feature with a minimum of four categories derived from the 'Overall' rating. Choose key attributes for classification, such as age, potential, and selected skill metrics. Handle missing values and eliminate non-essential columns to prepare the dataset for model training."
      ],
      "metadata": {
        "id": "6KpDZUkFOrmb"
      }
    },
    {
      "cell_type": "code",
      "source": [
        "rating_bins = [0, 60, 70, 80, 100]\n",
        "class_names = ['Very Low', 'Low', 'High', 'Very High']\n",
        "df['Classified_Overall'] = pd.cut(df['Overall'], bins=rating_bins, labels=class_names, right=False)\n",
        "\n",
        "selected_attributes = [\n",
        "    'Age', 'Potential', 'Composure', 'Marking', 'StandingTackle',\n",
        "    'SlidingTackle', 'GKDiving', 'GKHandling', 'GKKicking', 'GKPositioning', 'GKReflexes'\n",
        "]\n",
        "cleaned_data = df[['Classified_Overall'] + selected_attributes].dropna()\n",
        "\n",
        "X = cleaned_data[selected_attributes]\n",
        "y = cleaned_data['Classified_Overall']\n",
        "\n",
        "y_labels.value_counts()"
      ],
      "metadata": {
        "colab": {
          "base_uri": "https://localhost:8080/",
          "height": 241
        },
        "id": "ACA3i0VGOYhx",
        "outputId": "2dfc5643-dd5d-4608-eb7b-031cad5e993c"
      },
      "execution_count": 7,
      "outputs": [
        {
          "output_type": "execute_result",
          "data": {
            "text/plain": [
              "Classified_Overall\n",
              "Low          9617\n",
              "High         5083\n",
              "Very Low     2904\n",
              "Very High     555\n",
              "Name: count, dtype: int64"
            ],
            "text/html": [
              "<div>\n",
              "<style scoped>\n",
              "    .dataframe tbody tr th:only-of-type {\n",
              "        vertical-align: middle;\n",
              "    }\n",
              "\n",
              "    .dataframe tbody tr th {\n",
              "        vertical-align: top;\n",
              "    }\n",
              "\n",
              "    .dataframe thead th {\n",
              "        text-align: right;\n",
              "    }\n",
              "</style>\n",
              "<table border=\"1\" class=\"dataframe\">\n",
              "  <thead>\n",
              "    <tr style=\"text-align: right;\">\n",
              "      <th></th>\n",
              "      <th>count</th>\n",
              "    </tr>\n",
              "    <tr>\n",
              "      <th>Classified_Overall</th>\n",
              "      <th></th>\n",
              "    </tr>\n",
              "  </thead>\n",
              "  <tbody>\n",
              "    <tr>\n",
              "      <th>Low</th>\n",
              "      <td>9617</td>\n",
              "    </tr>\n",
              "    <tr>\n",
              "      <th>High</th>\n",
              "      <td>5083</td>\n",
              "    </tr>\n",
              "    <tr>\n",
              "      <th>Very Low</th>\n",
              "      <td>2904</td>\n",
              "    </tr>\n",
              "    <tr>\n",
              "      <th>Very High</th>\n",
              "      <td>555</td>\n",
              "    </tr>\n",
              "  </tbody>\n",
              "</table>\n",
              "</div><br><label><b>dtype:</b> int64</label>"
            ]
          },
          "metadata": {},
          "execution_count": 7
        }
      ]
    },
    {
      "cell_type": "markdown",
      "source": [
        "With the dataset ready, the next phase involves building and applying multiclass classification models as part of the assignment. The methods we’ll explore include:\n",
        "\n",
        "1. **Support Vector Machines (Multiclass SVM)**  \n",
        "2. **Logistic Regression** with both the OVR (One-vs-Rest) and Multinomial approaches  \n",
        "3. **K-Nearest Neighbors (KNN)** for multiclass problems  \n",
        "4. **Decision Trees** tailored for multiclass classification  \n",
        "5. **Ensemble and Boosting Techniques**, such as XGBoost, LightGBM, AdaBoost, or CatBoost  "
      ],
      "metadata": {
        "id": "Nf_kVwj-PBiU"
      }
    },
    {
      "cell_type": "code",
      "source": [
        "from sklearn.svm import SVC\n",
        "from sklearn.model_selection import train_test_split\n",
        "from sklearn.metrics import f1_score\n",
        "from sklearn.preprocessing import LabelEncoder\n",
        "from sklearn.metrics import log_loss\n",
        "import warnings\n",
        "warnings.filterwarnings(\"ignore\")\n",
        "\n",
        "le = LabelEncoder()\n",
        "y_encoded = le.fit_transform(y)\n",
        "X_train, X_test, y_train, y_test = train_test_split(X, y_encoded, test_size=0.2, random_state=42)\n",
        "svm_model = SVC(kernel='linear', decision_function_shape='ovr', random_state=42)\n",
        "svm_model.fit(X_train, y_train)\n",
        "\n",
        "y_pred_svm = svm_model.predict(X_test)\n",
        "y_prob_svm = svm_model.decision_function(X_test)\n",
        "\n",
        "log_loss_svm = log_loss(y_test, y_prob_svm)\n",
        "print(f\"log loss = {log_loss_svm}\")\n",
        "f1_svm = f1_score(y_test, y_pred_svm, average='weighted')\n",
        "\n",
        "print(f\"f1 = {f1_svm}\")"
      ],
      "metadata": {
        "colab": {
          "base_uri": "https://localhost:8080/"
        },
        "id": "N7Jf-zSZPNep",
        "outputId": "1bf98c8f-594b-48e3-829b-4eceae0ac852"
      },
      "execution_count": 9,
      "outputs": [
        {
          "output_type": "stream",
          "name": "stdout",
          "text": [
            "log loss = 0.0003419769661050628\n",
            "f1 = 0.8454805616255093\n"
          ]
        }
      ]
    },
    {
      "cell_type": "markdown",
      "source": [
        "The One-vs-Rest (OVR) approach of the Multiclass SVM model yielded an F1-score of roughly 0.85. This demonstrates strong performance in accurately classifying the four categories, even in light of the imbalanced distribution among the classes.\n",
        "\n",
        "The next step involves employing Multiclass Logistic Regression by applying both the One-vs-Rest (OVR) strategy and the Multinomial approach. The F1-score for each method will then be computed."
      ],
      "metadata": {
        "id": "OMGcCygLPaMa"
      }
    },
    {
      "cell_type": "code",
      "source": [
        "from sklearn.linear_model import LogisticRegression\n",
        "\n",
        "log_reg_ovr = LogisticRegression(max_iter=1000, multi_class='ovr', random_state=42)\n",
        "log_reg_ovr.fit(X_train, y_train)\n",
        "y_pred_log_reg_ovr = log_reg_ovr.predict(X_test)\n",
        "f1_log_reg_ovr = f1_score(y_test, y_pred_log_reg_ovr, average='weighted')\n",
        "log_reg_multinomial = LogisticRegression(max_iter=1000, multi_class='multinomial', solver='lbfgs', random_state=42)\n",
        "log_reg_multinomial.fit(X_train, y_train)\n",
        "y_pred_log_reg_multinomial = log_reg_multinomial.predict(X_test)\n",
        "f1_log_reg_multinomial = f1_score(y_test, y_pred_log_reg_multinomial, average='weighted')\n",
        "\n",
        "print(f\"f1 log reg ovr ={f1_log_reg_ovr},f1 log reg multinomial = {f1_log_reg_multinomial}\")\n",
        "\n",
        "y_prob_log_reg_ovr = log_reg_ovr.predict_proba(X_test)\n",
        "log_loss_log_reg_ovr = log_loss(y_test, y_prob_log_reg_ovr)\n",
        "print(f\"log loss log reg ovr = {log_loss_log_reg_ovr}\")\n",
        "y_prob_log_reg_multinomial = log_reg_multinomial.predict_proba(X_test)\n",
        "log_loss_log_reg_multinomial = log_loss(y_test, y_prob_log_reg_multinomial)\n",
        "print(f\"log loss log reg multinomial={log_loss_log_reg_multinomial}\")\n"
      ],
      "metadata": {
        "colab": {
          "base_uri": "https://localhost:8080/"
        },
        "id": "MBKpEjYiQAkd",
        "outputId": "f95c0917-a1c2-4714-af30-043bde92e898"
      },
      "execution_count": 10,
      "outputs": [
        {
          "output_type": "stream",
          "name": "stdout",
          "text": [
            "f1 log reg ovr =0.81971966221491,f1 log reg multinomial = 0.8085133008455684\n",
            "log loss log reg ovr = 0.5142817361750347\n",
            "log loss log reg multinomial=0.5904858983876099\n"
          ]
        }
      ]
    },
    {
      "cell_type": "markdown",
      "source": [
        "The training and evaluation of the Multiclass Logistic Regression models have been completed:\n",
        "\n",
        "- **OVR approach**: Achieved an F1-score of around 0.82  \n",
        "- **Multinomial approach**: Achieved an F1-score of around 0.78  \n",
        "\n",
        "While both models demonstrate reasonable performance, the One-vs-Rest (OVR) method shows a slight edge in this scenario.\n",
        "\n",
        "The next step is to implement Multiclass KNN and optimize the model by identifying the optimal number of neighbors (K)."
      ],
      "metadata": {
        "id": "_INjpFjRQNjI"
      }
    },
    {
      "cell_type": "code",
      "source": [
        "from sklearn.neighbors import KNeighborsClassifier\n",
        "import numpy as np\n",
        "\n",
        "f1_scores_knn = []\n",
        "for k in range(1, 21):\n",
        "    knn_model = KNeighborsClassifier(n_neighbors=k)\n",
        "    knn_model.fit(X_train, y_train)\n",
        "    y_pred_knn = knn_model.predict(X_test)\n",
        "    f1 = f1_score(y_test, y_pred_knn, average='weighted')\n",
        "    f1_scores_knn.append(f1)\n",
        "\n",
        "best_k = np.argmax(f1_scores_knn) + 1\n",
        "best_f1_knn = f1_scores_knn[best_k - 1]\n",
        "print(f\"best k = {best_k},best f1 KNN ={best_f1_knn}\")\n",
        "y_prob_knn = knn_model.predict_proba(X_test)\n",
        "\n",
        "log_loss_knn = log_loss(y_test, y_prob_knn)\n",
        "print(f\"log loss KNN = {log_loss_knn}\")"
      ],
      "metadata": {
        "colab": {
          "base_uri": "https://localhost:8080/"
        },
        "id": "U8Yi1ks5Qcfk",
        "outputId": "46b0e2ad-fc28-46ef-8a4c-a110777ab326"
      },
      "execution_count": 11,
      "outputs": [
        {
          "output_type": "stream",
          "name": "stdout",
          "text": [
            "best k = 11,best f1 KNN =0.8456749543387951\n",
            "log loss KNN = 0.4456950612439599\n"
          ]
        }
      ]
    },
    {
      "cell_type": "markdown",
      "source": [
        "The optimal performance of the Multiclass KNN model was observed at K = 11, achieving an F1-score of about 0.85. This reflects solid classification accuracy and effectiveness."
      ],
      "metadata": {
        "id": "idIsmDSgQm8a"
      }
    },
    {
      "cell_type": "code",
      "source": [
        "from sklearn.multiclass import OneVsRestClassifier\n",
        "\n",
        "knn_multilabel = OneVsRestClassifier(KNeighborsClassifier(n_neighbors=best_k))\n",
        "knn_multilabel.fit(X_train, y_train)\n",
        "y_pred_knn_multilabel = knn_multilabel.predict(X_test)\n",
        "f1_knn_multilabel = f1_score(y_test, y_pred_knn_multilabel, average='weighted')\n",
        "print(f\"f1 knn multilabel = {f1_knn_multilabel}\")"
      ],
      "metadata": {
        "colab": {
          "base_uri": "https://localhost:8080/"
        },
        "id": "2-4JjIOYUmrW",
        "outputId": "e3769e37-c55e-4578-9a7c-5f9614678aa9"
      },
      "execution_count": 12,
      "outputs": [
        {
          "output_type": "stream",
          "name": "stdout",
          "text": [
            "f1 knn multilabel = 0.8458962266267862\n"
          ]
        }
      ]
    },
    {
      "cell_type": "markdown",
      "source": [
        "\n",
        "The next step involves building a Multiclass Decision Trees model and assessing its performance by computing the F1-score."
      ],
      "metadata": {
        "id": "R81tatfQUuru"
      }
    },
    {
      "cell_type": "code",
      "source": [
        "from sklearn.tree import DecisionTreeClassifier\n",
        "\n",
        "dt_model = DecisionTreeClassifier(random_state=42)\n",
        "dt_model.fit(X_train, y_train)\n",
        "y_pred_dt = dt_model.predict(X_test)\n",
        "f1_dt = f1_score(y_test, y_pred_dt, average='weighted')\n",
        "\n",
        "print(f\"f1 decisopn tree = {f1_dt}\")\n",
        "y_prob_dt = dt_model.predict_proba(X_test)\n",
        "log_loss_dt = log_loss(y_test, y_prob_dt)\n",
        "print(f\"log loss decision tree = {log_loss_dt}\")"
      ],
      "metadata": {
        "colab": {
          "base_uri": "https://localhost:8080/"
        },
        "id": "quWLAQY6QqOF",
        "outputId": "eee5b79e-ac07-485c-eb32-08b24ce9ee40"
      },
      "execution_count": 13,
      "outputs": [
        {
          "output_type": "stream",
          "name": "stdout",
          "text": [
            "f1 decisopn tree = 0.8870087635839491\n",
            "log loss decision tree = 4.078728398383026\n"
          ]
        }
      ]
    },
    {
      "cell_type": "code",
      "source": [
        "dt_multilabel = OneVsRestClassifier(DecisionTreeClassifier(random_state=42))\n",
        "dt_multilabel.fit(X_train, y_train)\n",
        "y_pred_dt_multilabel = dt_multilabel.predict(X_test)\n",
        "f1_dt_multilabel = f1_score(y_test, y_pred_dt_multilabel, average='weighted')\n",
        "print(f\"f1 decision tree multilabel ={f1_dt_multilabel}\")"
      ],
      "metadata": {
        "colab": {
          "base_uri": "https://localhost:8080/"
        },
        "id": "XSHyZ4EcU0nL",
        "outputId": "4b39ef7b-5010-4190-bda5-fefe0cc6e65d"
      },
      "execution_count": 14,
      "outputs": [
        {
          "output_type": "stream",
          "name": "stdout",
          "text": [
            "f1 decision tree multilabel =0.8631354557961329\n"
          ]
        }
      ]
    },
    {
      "cell_type": "markdown",
      "source": [
        "The F1-score achieved by the Multiclass Decision Tree model stands at around 0.87, highlighting its impressive capability to classify all four categories effectively.\n",
        "\n",
        "The next phase involves exploring Boosting Techniques, including XGBoost, LightGBM, and AdaBoost (or CatBoost). Additionally, a Grid Search will be conducted to fine-tune one of these methods. The starting point will be XGBoost.\n"
      ],
      "metadata": {
        "id": "k7xgUR4XQzQN"
      }
    },
    {
      "cell_type": "markdown",
      "source": [
        "KNN and Decision Trees for Multi-Label Classification\n",
        "\n",
        "Both KNN and Decision Trees can adapt to multi-label classification through the One-vs-Rest (OVR) strategy. Under OVR, each category is treated as an independent binary classification task. For every category, the algorithm predicts whether a sample belongs to it or not, and the category with the highest score is selected as the predicted outcome.\n",
        "\n",
        "Metrics\n",
        "- **Log Loss**: This metric evaluates the accuracy of probabilistic predictions. Lower Log Loss values signify stronger model performance. It is particularly useful for models like Logistic Regression, Decision Trees, and XGBoost that generate probabilistic outputs.\n",
        "- **F1 Score**: The F1-score gauges the balance between precision and recall. As the harmonic mean of precision and recall, higher F1-score values reflect enhanced model effectiveness.\n"
      ],
      "metadata": {
        "id": "Fm4FntJNVFIM"
      }
    },
    {
      "cell_type": "code",
      "source": [
        "import xgboost as xgb\n",
        "from sklearn.model_selection import GridSearchCV\n",
        "\n",
        "xgb_model = xgb.XGBClassifier(random_state=42)\n",
        "xgb_model.fit(X_train, y_train)\n",
        "y_pred_xgb = xgb_model.predict(X_test)\n",
        "f1_xgb = f1_score(y_test, y_pred_xgb, average='weighted')\n",
        "param_grid = {\n",
        "    'max_depth': [3, 5, 7],\n",
        "    'learning_rate': [0.01, 0.1, 0.2],\n",
        "    'n_estimators': [50, 100, 200]\n",
        "}\n",
        "\n",
        "grid_search_xgb = GridSearchCV(xgb.XGBClassifier(random_state=42), param_grid, cv=3, scoring='f1_weighted', n_jobs=-1)\n",
        "grid_search_xgb.fit(X_train, y_train)\n",
        "best_params_xgb = grid_search_xgb.best_params_\n",
        "print(f\"f1 xgb ={f1_xgb},best params xgb={best_params_xgb}\")\n",
        "\n",
        "y_prob_xgb = xgb_model.predict_proba(X_test)\n",
        "log_loss_xgb = log_loss(y_test, y_prob_xgb)\n",
        "print(f\"log loss XGB = {log_loss_xgb}\")"
      ],
      "metadata": {
        "colab": {
          "base_uri": "https://localhost:8080/"
        },
        "id": "hj1_0BwRQ0NX",
        "outputId": "5c6b1645-3f3f-4f9c-93f7-427318a4bae5"
      },
      "execution_count": 15,
      "outputs": [
        {
          "output_type": "stream",
          "name": "stdout",
          "text": [
            "f1 xgb =0.9195100192686441,best params xgb={'learning_rate': 0.2, 'max_depth': 5, 'n_estimators': 50}\n",
            "log loss XGB = 0.1814626106522046\n"
          ]
        }
      ]
    },
    {
      "cell_type": "markdown",
      "source": [
        "### XGBoost Model Performance and Hyperparameters\n",
        "\n",
        "The F1-score for the XGBoost model was approximately 0.85. Grid Search optimization identified the following as the best hyperparameters:\n",
        "\n",
        "- **max_depth**: 5  \n",
        "- **learning_rate**: 0.2  \n",
        "- **n_estimators**: 50  \n",
        "\n",
        "The next step involves developing and evaluating LightGBM and AdaBoost models.\n"
      ],
      "metadata": {
        "id": "3qkFDFpwQ7Pi"
      }
    },
    {
      "cell_type": "code",
      "source": [
        "import lightgbm as lgb\n",
        "from sklearn.ensemble import AdaBoostClassifier\n",
        "lgb_model = lgb.LGBMClassifier(random_state=42)\n",
        "lgb_model.fit(X_train, y_train)\n",
        "\n",
        "y_pred_lgb = lgb_model.predict(X_test)\n",
        "f1_lgb = f1_score(y_test, y_pred_lgb, average='weighted')\n",
        "ada_model = AdaBoostClassifier(random_state=42)\n",
        "ada_model.fit(X_train, y_train)\n",
        "y_pred_ada = ada_model.predict(X_test)\n",
        "f1_ada = f1_score(y_test, y_pred_ada, average='weighted')\n",
        "\n",
        "print(f\"f1 lgb={f1_lgb},f1 ada = {f1_ada}\")"
      ],
      "metadata": {
        "colab": {
          "base_uri": "https://localhost:8080/"
        },
        "id": "vVvj-2lzRQtZ",
        "outputId": "d847fca2-fb38-4769-c5ab-16396e21b5b4"
      },
      "execution_count": 16,
      "outputs": [
        {
          "output_type": "stream",
          "name": "stdout",
          "text": [
            "[LightGBM] [Info] Auto-choosing col-wise multi-threading, the overhead of testing was 0.001650 seconds.\n",
            "You can set `force_col_wise=true` to remove the overhead.\n",
            "[LightGBM] [Info] Total Bins 739\n",
            "[LightGBM] [Info] Number of data points in the train set: 14527, number of used features: 11\n",
            "[LightGBM] [Info] Start training from score -1.269422\n",
            "[LightGBM] [Info] Start training from score -0.638171\n",
            "[LightGBM] [Info] Start training from score -3.494719\n",
            "[LightGBM] [Info] Start training from score -1.830141\n",
            "[LightGBM] [Warning] No further splits with positive gain, best gain: -inf\n",
            "f1 lgb=0.9250689915022711,f1 ada = 0.7606935877541865\n"
          ]
        }
      ]
    }
  ]
}